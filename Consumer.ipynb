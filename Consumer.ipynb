{
 "cells": [
  {
   "cell_type": "code",
   "execution_count": 1,
   "id": "28eef08d-cadf-4224-9016-475bf2d0dbcf",
   "metadata": {},
   "outputs": [],
   "source": [
    "from kafka import KafkaConsumer\n",
    "import json"
   ]
  },
  {
   "cell_type": "code",
   "execution_count": null,
   "id": "e9072ed6-10d0-4c42-a860-ad7943ed68fe",
   "metadata": {},
   "outputs": [],
   "source": [
    "from kafka import KafkaConsumer\n",
    "import json\n",
    "\n",
    "# Define Kafka consumer\n",
    "consumer = KafkaConsumer(\n",
    "    'test-topic',  # The topic to consume messages from\n",
    "    bootstrap_servers=['localhost:9092'],  # List of Kafka brokers to connect to\n",
    "    auto_offset_reset='earliest',  # Where to start reading messages when no offset is stored ('earliest' to read from the beginning)\n",
    "    enable_auto_commit=True,  # Automatically commit offsets after consuming messages\n",
    "    value_deserializer=lambda x: x.decode('utf-8') if x else None  # Deserialize message values from bytes to UTF-8 strings\n",
    ")\n",
    "\n",
    "# Consume messages with error handling for non-JSON messages\n",
    "for message in consumer:\n",
    "    print(message.value)"
   ]
  },
  {
   "cell_type": "code",
   "execution_count": null,
   "id": "e0232e76-9f0f-4e5c-9a21-34ddae30f129",
   "metadata": {},
   "outputs": [],
   "source": [
    "# Define Kafka consumer\n",
    "consumer = KafkaConsumer(\n",
    "    'test-topic',\n",
    "    bootstrap_servers=['localhost:9092'],\n",
    "    auto_offset_reset='earliest',\n",
    "    enable_auto_commit=True,\n",
    "    value_deserializer=lambda x: x.decode('utf-8') if x else None\n",
    ")\n",
    "\n",
    "# Consume messages and print partition and offset\n",
    "for message in consumer:\n",
    "    print(f\"Consumed message: {decoded_message}\")\n",
    "    print(f\"Partition: {message.partition}, Offset: {message.offset}\")\n"
   ]
  },
  {
   "cell_type": "code",
   "execution_count": null,
   "id": "14d32fb8-1a42-4eee-8808-b08f62b32853",
   "metadata": {},
   "outputs": [],
   "source": []
  }
 ],
 "metadata": {
  "kernelspec": {
   "display_name": "Python 3 (ipykernel)",
   "language": "python",
   "name": "python3"
  },
  "language_info": {
   "codemirror_mode": {
    "name": "ipython",
    "version": 3
   },
   "file_extension": ".py",
   "mimetype": "text/x-python",
   "name": "python",
   "nbconvert_exporter": "python",
   "pygments_lexer": "ipython3",
   "version": "3.11.7"
  }
 },
 "nbformat": 4,
 "nbformat_minor": 5
}
